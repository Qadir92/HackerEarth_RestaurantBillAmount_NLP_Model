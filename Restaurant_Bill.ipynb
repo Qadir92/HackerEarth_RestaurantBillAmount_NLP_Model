{
  "nbformat": 4,
  "nbformat_minor": 0,
  "metadata": {
    "colab": {
      "name": "Restaurant Bill.ipynb",
      "provenance": [],
      "collapsed_sections": [],
      "toc_visible": true
    },
    "kernelspec": {
      "name": "python3",
      "display_name": "Python 3"
    },
    "language_info": {
      "name": "python"
    }
  },
  "cells": [
    {
      "cell_type": "markdown",
      "metadata": {
        "id": "L8-UEtt6r-UF"
      },
      "source": [
        "# Import Data and Library"
      ]
    },
    {
      "cell_type": "markdown",
      "metadata": {
        "id": "6KtZzX3kY8Bm"
      },
      "source": [
        "Imporing the important libraries"
      ]
    },
    {
      "cell_type": "code",
      "metadata": {
        "colab": {
          "base_uri": "https://localhost:8080/"
        },
        "id": "gScI1oC5Ztjp",
        "outputId": "da13b067-cd2d-4058-adc6-fff0068623b8"
      },
      "source": [
        "pip install pdf2image"
      ],
      "execution_count": 1,
      "outputs": [
        {
          "output_type": "stream",
          "text": [
            "Collecting pdf2image\n",
            "  Downloading https://files.pythonhosted.org/packages/7a/17/debc231f9bdb499e93389bb8679c7091ee9e4993dd92ed2da18aa896e2b6/pdf2image-1.15.1-py3-none-any.whl\n",
            "Requirement already satisfied: pillow in /usr/local/lib/python3.7/dist-packages (from pdf2image) (7.1.2)\n",
            "Installing collected packages: pdf2image\n",
            "Successfully installed pdf2image-1.15.1\n"
          ],
          "name": "stdout"
        }
      ]
    },
    {
      "cell_type": "code",
      "metadata": {
        "colab": {
          "base_uri": "https://localhost:8080/"
        },
        "id": "4BwKERSpaQGJ",
        "outputId": "33c447ff-d36a-4cb5-a49b-8c126c893a8f"
      },
      "source": [
        "pip install pytesseract"
      ],
      "execution_count": 2,
      "outputs": [
        {
          "output_type": "stream",
          "text": [
            "Collecting pytesseract\n",
            "  Downloading https://files.pythonhosted.org/packages/a0/e6/a4e9fc8a93c1318540e8de6d8d4beb5749b7960388a7c7f27799fc2dd016/pytesseract-0.3.7.tar.gz\n",
            "Requirement already satisfied: Pillow in /usr/local/lib/python3.7/dist-packages (from pytesseract) (7.1.2)\n",
            "Building wheels for collected packages: pytesseract\n",
            "  Building wheel for pytesseract (setup.py) ... \u001b[?25l\u001b[?25hdone\n",
            "  Created wheel for pytesseract: filename=pytesseract-0.3.7-py2.py3-none-any.whl size=13945 sha256=04a34478ae7169ab4d3356ab9c5ac6107b2cca109e9d33fa6b843de935d87107\n",
            "  Stored in directory: /root/.cache/pip/wheels/81/20/7e/1dd0daad1575d5260916bb1e9781246430647adaef4b3ca3b3\n",
            "Successfully built pytesseract\n",
            "Installing collected packages: pytesseract\n",
            "Successfully installed pytesseract-0.3.7\n"
          ],
          "name": "stdout"
        }
      ]
    },
    {
      "cell_type": "code",
      "metadata": {
        "colab": {
          "base_uri": "https://localhost:8080/"
        },
        "id": "qc5kUWwFjuBM",
        "outputId": "a87c312f-97ce-488f-f3ad-e0e4de00da6f"
      },
      "source": [
        "!sudo apt install tesseract-ocr"
      ],
      "execution_count": 3,
      "outputs": [
        {
          "output_type": "stream",
          "text": [
            "Reading package lists... Done\n",
            "Building dependency tree       \n",
            "Reading state information... Done\n",
            "The following package was automatically installed and is no longer required:\n",
            "  libnvidia-common-460\n",
            "Use 'sudo apt autoremove' to remove it.\n",
            "The following additional packages will be installed:\n",
            "  tesseract-ocr-eng tesseract-ocr-osd\n",
            "The following NEW packages will be installed:\n",
            "  tesseract-ocr tesseract-ocr-eng tesseract-ocr-osd\n",
            "0 upgraded, 3 newly installed, 0 to remove and 34 not upgraded.\n",
            "Need to get 4,795 kB of archives.\n",
            "After this operation, 15.8 MB of additional disk space will be used.\n",
            "Get:1 http://archive.ubuntu.com/ubuntu bionic/universe amd64 tesseract-ocr-eng all 4.00~git24-0e00fe6-1.2 [1,588 kB]\n",
            "Get:2 http://archive.ubuntu.com/ubuntu bionic/universe amd64 tesseract-ocr-osd all 4.00~git24-0e00fe6-1.2 [2,989 kB]\n",
            "Get:3 http://archive.ubuntu.com/ubuntu bionic/universe amd64 tesseract-ocr amd64 4.00~git2288-10f4998a-2 [218 kB]\n",
            "Fetched 4,795 kB in 1s (4,376 kB/s)\n",
            "debconf: unable to initialize frontend: Dialog\n",
            "debconf: (No usable dialog-like program is installed, so the dialog based frontend cannot be used. at /usr/share/perl5/Debconf/FrontEnd/Dialog.pm line 76, <> line 3.)\n",
            "debconf: falling back to frontend: Readline\n",
            "debconf: unable to initialize frontend: Readline\n",
            "debconf: (This frontend requires a controlling tty.)\n",
            "debconf: falling back to frontend: Teletype\n",
            "dpkg-preconfigure: unable to re-open stdin: \n",
            "Selecting previously unselected package tesseract-ocr-eng.\n",
            "(Reading database ... 160706 files and directories currently installed.)\n",
            "Preparing to unpack .../tesseract-ocr-eng_4.00~git24-0e00fe6-1.2_all.deb ...\n",
            "Unpacking tesseract-ocr-eng (4.00~git24-0e00fe6-1.2) ...\n",
            "Selecting previously unselected package tesseract-ocr-osd.\n",
            "Preparing to unpack .../tesseract-ocr-osd_4.00~git24-0e00fe6-1.2_all.deb ...\n",
            "Unpacking tesseract-ocr-osd (4.00~git24-0e00fe6-1.2) ...\n",
            "Selecting previously unselected package tesseract-ocr.\n",
            "Preparing to unpack .../tesseract-ocr_4.00~git2288-10f4998a-2_amd64.deb ...\n",
            "Unpacking tesseract-ocr (4.00~git2288-10f4998a-2) ...\n",
            "Setting up tesseract-ocr-osd (4.00~git24-0e00fe6-1.2) ...\n",
            "Setting up tesseract-ocr-eng (4.00~git24-0e00fe6-1.2) ...\n",
            "Setting up tesseract-ocr (4.00~git2288-10f4998a-2) ...\n",
            "Processing triggers for man-db (2.8.3-2ubuntu0.1) ...\n"
          ],
          "name": "stdout"
        }
      ]
    },
    {
      "cell_type": "code",
      "metadata": {
        "colab": {
          "base_uri": "https://localhost:8080/"
        },
        "id": "jth8eneEc4uP",
        "outputId": "4ccfb822-2352-4ec2-fd4b-fafae5b7c4f1"
      },
      "source": [
        "!apt-get install poppler-utils"
      ],
      "execution_count": 4,
      "outputs": [
        {
          "output_type": "stream",
          "text": [
            "Reading package lists... Done\n",
            "Building dependency tree       \n",
            "Reading state information... Done\n",
            "The following package was automatically installed and is no longer required:\n",
            "  libnvidia-common-460\n",
            "Use 'apt autoremove' to remove it.\n",
            "The following NEW packages will be installed:\n",
            "  poppler-utils\n",
            "0 upgraded, 1 newly installed, 0 to remove and 34 not upgraded.\n",
            "Need to get 154 kB of archives.\n",
            "After this operation, 613 kB of additional disk space will be used.\n",
            "Get:1 http://archive.ubuntu.com/ubuntu bionic-updates/main amd64 poppler-utils amd64 0.62.0-2ubuntu2.12 [154 kB]\n",
            "Fetched 154 kB in 1s (300 kB/s)\n",
            "Selecting previously unselected package poppler-utils.\n",
            "(Reading database ... 160753 files and directories currently installed.)\n",
            "Preparing to unpack .../poppler-utils_0.62.0-2ubuntu2.12_amd64.deb ...\n",
            "Unpacking poppler-utils (0.62.0-2ubuntu2.12) ...\n",
            "Setting up poppler-utils (0.62.0-2ubuntu2.12) ...\n",
            "Processing triggers for man-db (2.8.3-2ubuntu0.1) ...\n"
          ],
          "name": "stdout"
        }
      ]
    },
    {
      "cell_type": "code",
      "metadata": {
        "id": "PvRCs6SpYQIc"
      },
      "source": [
        "import cv2\n",
        "import os\n",
        "import csv\n",
        "import glob\n",
        "from google.colab import files\n",
        "from matplotlib import pyplot as plt\n",
        "from keras.preprocessing.image import img_to_array,load_img\n",
        "import re\n",
        "import pdf2image\n",
        "from PIL import Image\n",
        "from matplotlib import pyplot\n",
        "from pytesseract import image_to_string\n",
        "from keras.preprocessing.image import load_img\n",
        "from torchvision import transforms\n",
        "from torchvision.transforms import InterpolationMode\n",
        "from skimage.io import imread\n",
        "from pytesseract import image_to_string,image_to_data\n",
        "import pandas as pd\n",
        "from pdf2image import convert_from_path\n",
        "from PIL import Image\n",
        "from pytesseract import Output\n",
        "from matplotlib.patches import Rectangle\n",
        "import numpy as np\n",
        "import matplotlib.pyplot as plt"
      ],
      "execution_count": 5,
      "outputs": []
    },
    {
      "cell_type": "markdown",
      "metadata": {
        "id": "FX2NCjI7ac85"
      },
      "source": [
        "Importing test data and convereting pdf file to jpeg image"
      ]
    },
    {
      "cell_type": "code",
      "metadata": {
        "colab": {
          "resources": {
            "http://localhost:8080/nbextensions/google.colab/files.js": {
              "data": "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",
              "ok": true,
              "headers": [
                [
                  "content-type",
                  "application/javascript"
                ]
              ],
              "status": 200,
              "status_text": ""
            }
          },
          "base_uri": "https://localhost:8080/",
          "height": 73
        },
        "id": "eqkyXOSHsUul",
        "outputId": "54d9f8cc-eb6f-4cff-bcf3-92819da0e886"
      },
      "source": [
        "test = files.upload() #upload Test.csv"
      ],
      "execution_count": 6,
      "outputs": [
        {
          "output_type": "display_data",
          "data": {
            "text/html": [
              "\n",
              "     <input type=\"file\" id=\"files-a8e1643f-e1eb-4e28-a42b-6e4ecc54c1bb\" name=\"files[]\" multiple disabled\n",
              "        style=\"border:none\" />\n",
              "     <output id=\"result-a8e1643f-e1eb-4e28-a42b-6e4ecc54c1bb\">\n",
              "      Upload widget is only available when the cell has been executed in the\n",
              "      current browser session. Please rerun this cell to enable.\n",
              "      </output>\n",
              "      <script src=\"/nbextensions/google.colab/files.js\"></script> "
            ],
            "text/plain": [
              "<IPython.core.display.HTML object>"
            ]
          },
          "metadata": {
            "tags": []
          }
        },
        {
          "output_type": "stream",
          "text": [
            "Saving Test.csv to Test.csv\n"
          ],
          "name": "stdout"
        }
      ]
    },
    {
      "cell_type": "code",
      "metadata": {
        "id": "CI-pYlNJtu6W"
      },
      "source": [
        "if not os.path.exists('TestPDF'):\n",
        "  os.makedirs('TestPDF')"
      ],
      "execution_count": 7,
      "outputs": []
    },
    {
      "cell_type": "code",
      "metadata": {
        "id": "CBjEbxbMFpOv"
      },
      "source": [
        "if not os.path.exists('TestImages'):\n",
        "  os.makedirs('TestImages')"
      ],
      "execution_count": 8,
      "outputs": []
    },
    {
      "cell_type": "code",
      "metadata": {
        "id": "LZxYnAhlvS4y"
      },
      "source": [
        "#Upload all the pdfs to TestPDF"
      ],
      "execution_count": null,
      "outputs": []
    },
    {
      "cell_type": "code",
      "metadata": {
        "colab": {
          "base_uri": "https://localhost:8080/"
        },
        "id": "Dlk1S9v5vAii",
        "outputId": "5e89cbaa-7b91-4f6c-dba6-6573177acf67"
      },
      "source": [
        "count =0\n",
        "for im in glob.glob('/content/TestPDF/*'):\n",
        "  count = count+1\n",
        "if(count==70):\n",
        "  print('All PDF',count,'Uploaded')\n",
        "else:\n",
        "  print('Re upload all PDFs')"
      ],
      "execution_count": 9,
      "outputs": [
        {
          "output_type": "stream",
          "text": [
            "All PDF 70 Uploaded\n"
          ],
          "name": "stdout"
        }
      ]
    },
    {
      "cell_type": "code",
      "metadata": {
        "colab": {
          "base_uri": "https://localhost:8080/",
          "height": 202
        },
        "id": "yiMhSp3z_z0x",
        "outputId": "6a947abf-4752-4b6f-ba74-08e800d0a39d"
      },
      "source": [
        "df=pd.read_csv('Test.csv')\n",
        "df.head()"
      ],
      "execution_count": 10,
      "outputs": [
        {
          "output_type": "execute_result",
          "data": {
            "text/html": [
              "<div>\n",
              "<style scoped>\n",
              "    .dataframe tbody tr th:only-of-type {\n",
              "        vertical-align: middle;\n",
              "    }\n",
              "\n",
              "    .dataframe tbody tr th {\n",
              "        vertical-align: top;\n",
              "    }\n",
              "\n",
              "    .dataframe thead th {\n",
              "        text-align: right;\n",
              "    }\n",
              "</style>\n",
              "<table border=\"1\" class=\"dataframe\">\n",
              "  <thead>\n",
              "    <tr style=\"text-align: right;\">\n",
              "      <th></th>\n",
              "      <th>FileName</th>\n",
              "      <th>Total Amount</th>\n",
              "    </tr>\n",
              "  </thead>\n",
              "  <tbody>\n",
              "    <tr>\n",
              "      <th>0</th>\n",
              "      <td>TE_131</td>\n",
              "      <td>NaN</td>\n",
              "    </tr>\n",
              "    <tr>\n",
              "      <th>1</th>\n",
              "      <td>TE_132</td>\n",
              "      <td>NaN</td>\n",
              "    </tr>\n",
              "    <tr>\n",
              "      <th>2</th>\n",
              "      <td>TE_133</td>\n",
              "      <td>NaN</td>\n",
              "    </tr>\n",
              "    <tr>\n",
              "      <th>3</th>\n",
              "      <td>TE_134</td>\n",
              "      <td>NaN</td>\n",
              "    </tr>\n",
              "    <tr>\n",
              "      <th>4</th>\n",
              "      <td>TE_135</td>\n",
              "      <td>NaN</td>\n",
              "    </tr>\n",
              "  </tbody>\n",
              "</table>\n",
              "</div>"
            ],
            "text/plain": [
              "  FileName  Total Amount\n",
              "0   TE_131           NaN\n",
              "1   TE_132           NaN\n",
              "2   TE_133           NaN\n",
              "3   TE_134           NaN\n",
              "4   TE_135           NaN"
            ]
          },
          "metadata": {
            "tags": []
          },
          "execution_count": 10
        }
      ]
    },
    {
      "cell_type": "markdown",
      "metadata": {
        "id": "HXA2cgYEWsm_"
      },
      "source": [
        "# PDF to Image"
      ]
    },
    {
      "cell_type": "code",
      "metadata": {
        "id": "1g_eWnRxaanZ"
      },
      "source": [
        "for i in range(131,201):\n",
        "  pages = convert_from_path('/content/TestPDF/TE_'+str(i)+'.pdf')\n",
        "  for page in pages:\n",
        "    page.save('/content/TestImages/TE_'+str(i)+'jpg', 'JPEG')"
      ],
      "execution_count": 11,
      "outputs": []
    },
    {
      "cell_type": "code",
      "metadata": {
        "colab": {
          "base_uri": "https://localhost:8080/"
        },
        "id": "7bxX_8ywGP1v",
        "outputId": "f16cca08-5843-41bb-c9af-e2626c5d1bf0"
      },
      "source": [
        "count =0\n",
        "for im in glob.glob('/content/TestImages/*'):\n",
        "  count = count+1\n",
        "if(count==70):\n",
        "  print('All PDF',count,'Converted')\n",
        "else:\n",
        "  print('Redo the PDF conversion')"
      ],
      "execution_count": 12,
      "outputs": [
        {
          "output_type": "stream",
          "text": [
            "All PDF 70 Converted\n"
          ],
          "name": "stdout"
        }
      ]
    },
    {
      "cell_type": "markdown",
      "metadata": {
        "id": "Qs31iJ5IW5aF"
      },
      "source": [
        "# Image Processing"
      ]
    },
    {
      "cell_type": "markdown",
      "metadata": {
        "id": "0kUh77sGiwGP"
      },
      "source": [
        "Image preprocessing for better pytesseract accuracy"
      ]
    },
    {
      "cell_type": "code",
      "metadata": {
        "id": "PxBOxf2Ji5Ui"
      },
      "source": [
        "def image_preprocessing(path):\n",
        "  #im=Image.open(path)\n",
        "  #img=im.crop((200,800,1300,1700))\n",
        "  img = cv2.imread(path,0)\n",
        "  #roi = img[800:1700, 200:1300]\n",
        "  img = cv2.medianBlur(img,5)\n",
        "\n",
        "  ret,th1 = cv2.threshold(img,127,255,cv2.THRESH_BINARY)\n",
        "  th2 = cv2.adaptiveThreshold(img,255,cv2.ADAPTIVE_THRESH_MEAN_C,\\\n",
        "            cv2.THRESH_BINARY,11,2)\n",
        "  th3 = cv2.adaptiveThreshold(img,255,cv2.ADAPTIVE_THRESH_GAUSSIAN_C,\\\n",
        "            cv2.THRESH_BINARY,11,2)\n",
        "\n",
        "  titles = ['Original Image', 'Global Thresholding (v = 127)',\n",
        "            'Adaptive Mean Thresholding', 'Adaptive Gaussian Thresholding']\n",
        "  images = [img, th1, th2, th3]\n",
        "\n",
        "  for i in range(4):\n",
        "    plt.plot(2,2,i+1)\n",
        "    plt.imshow(images[i],'gray')\n",
        "    plt.title(titles[i])\n",
        "    plt.xticks([])\n",
        "    plt.yticks([])\n",
        "    plt.show()\n",
        "  new_image=images[3]\n",
        "  return new_image"
      ],
      "execution_count": 42,
      "outputs": []
    },
    {
      "cell_type": "code",
      "metadata": {
        "colab": {
          "base_uri": "https://localhost:8080/",
          "height": 87
        },
        "id": "nJi2-KLKcI9j",
        "outputId": "057286d1-dc14-4fa1-8106-0445c85742ba"
      },
      "source": [
        "new_image=image_preprocessing('/content/TestImages/TE_152jpg')   #Example for showing how the image is being transfrormed for better results \n",
        "image_to_string(new_image)"
      ],
      "execution_count": 14,
      "outputs": [
        {
          "output_type": "execute_result",
          "data": {
            "application/vnd.google.colaboratory.intrinsic+json": {
              "type": "string"
            },
            "text/plain": [
              "'  \\n \\n\\n \\n\\n1 Twisted Rueben\\n\\nSubtotal\\n\\n   \\n \\n\\n1 Service Fee (6%)\\nSales Tax (9.2%)\\n\\nTotal\\nfe\\nTip Helper\\n.15%=2. 03 Tica 4 20%=2. n\\n\\nStart ing “January ‘6th, 2019\\n\\nCCR includes a 6% ‘service charge on each\\né F! guest - “check. ‘ .\\n\\nThis service charge 1s- fully retained by\\n\\nthe company, not the setverss1t. wild be\\nee pew ct de La fie ame ofa Gur\\n\\x0c'"
            ]
          },
          "metadata": {
            "tags": []
          },
          "execution_count": 14
        }
      ]
    },
    {
      "cell_type": "markdown",
      "metadata": {
        "id": "iyShQ7EDkN2-"
      },
      "source": [
        "Setting 400 dpi"
      ]
    },
    {
      "cell_type": "code",
      "metadata": {
        "id": "VVzHPeIrkRBC",
        "colab": {
          "base_uri": "https://localhost:8080/"
        },
        "outputId": "2e8ad99e-194f-431d-cdd6-ac2addf79f4d"
      },
      "source": [
        "for i in range(131,201):\n",
        "  im = Image.open('/content/TestImages/TE_'+str(i)+'jpg')\n",
        "  im.save('/content/TestImages/TE_'+str(i)+'jpg.jpeg',dpi=(400,400))\n",
        "print('Done!')"
      ],
      "execution_count": 15,
      "outputs": [
        {
          "output_type": "stream",
          "text": [
            "Done!\n"
          ],
          "name": "stdout"
        }
      ]
    },
    {
      "cell_type": "code",
      "metadata": {
        "colab": {
          "base_uri": "https://localhost:8080/",
          "height": 287
        },
        "id": "MfRjGp3Zkduy",
        "outputId": "df3b6ba4-a4f6-423e-82c6-b4b1c561a7e3"
      },
      "source": [
        "im=Image.open('/content/TestImages/TE_152jpg.jpeg')\n",
        "im=im.crop((200,800,1300,1700))\n",
        "plt.imshow(im)\n",
        "im.save('new.jpeg')\n",
        "im=image_preprocessing('new.jpeg')\n",
        "image_to_string(im)"
      ],
      "execution_count": 16,
      "outputs": [
        {
          "output_type": "execute_result",
          "data": {
            "application/vnd.google.colaboratory.intrinsic+json": {
              "type": "string"
            },
            "text/plain": [
              "'OI ge ate\\npany, not the serverss,Tt will be\\nNo) bem emt da: fair wades for. our\\n\\n \\n\\x0c'"
            ]
          },
          "metadata": {
            "tags": []
          },
          "execution_count": 16
        },
        {
          "output_type": "display_data",
          "data": {
            "image/png": "[encoded data removed]",
            "text/plain": [
              "<Figure size 432x288 with 1 Axes>"
            ]
          },
          "metadata": {
            "tags": [],
            "needs_background": "light"
          }
        }
      ]
    },
    {
      "cell_type": "markdown",
      "metadata": {
        "id": "NnbaQ4KMX1QP"
      },
      "source": [
        "# Text Extraction"
      ]
    },
    {
      "cell_type": "markdown",
      "metadata": {
        "id": "E1LlAROglSLq"
      },
      "source": [
        "Extracting text from data"
      ]
    },
    {
      "cell_type": "code",
      "metadata": {
        "colab": {
          "base_uri": "https://localhost:8080/"
        },
        "id": "UzIaOYa0lRbO",
        "outputId": "5fc49078-09e1-44c6-e990-10604ff63659"
      },
      "source": [
        "l_test=[]\n",
        "for i in range(131,201):\n",
        "  custom_config = r'-c tessedit_char_whitelist=TotalTOTALAmountCashTLDue$0123456789.: --psm 6'\n",
        "  #im=Image.open('/content/TestImages/TE_'+str(i)+'jpg.jpeg')\n",
        "  #im=im.crop((200,800,1300,1700)).copy()\n",
        "  image=load_img('/content/TestImages/TE_'+str(i)+'jpg.jpeg')\n",
        "  text=image_to_string(image,config=custom_config)\n",
        "  l_test.append(text)\n",
        "l_test"
      ],
      "execution_count": 81,
      "outputs": [
        {
          "output_type": "execute_result",
          "data": {
            "text/plain": [
              "['BOA\\n(310) 278-205!\\nO051a TABLE 308 #Party ae\\nBAR L SyrCk: 13 13:22 12/20/17\\nSeparate checks: 1-of-3\\n1 CRAB CAKE 15.00\\n1 SKIRT STK LUNCH 28 .00\\nSub Total: 43 .00\\nTax: 4.09\\nSub Total: 47.09\\n12/20 14:29 TOTAL: =a. 9\\nSUGGESTED GRATUITY\\n18% 8.48\\n20h 9,42\\n\\x0c',\n",
              " '1AMBI if >I RS\\n3950 SLAUSON MAYWOOD, ¢ A 902770\\nPHONE 323-588-1607\\nMC #01\\nREG CASHIER 11-24-2017 12:13 PM 000072\\nMJ SC $0.01\\n8B CHZ B SPC $8.80\\nno pickles\\nF FRIES - LRG $3.66\\nCRISPY\\nLRISPY\\nF° FRIES - LRG $3. Bf\\nCRISPY\\nPI i MED DRINb $2.15\\nnorchata\\nHZ BURGER SPEC $7.57\\nno onions\\nEAT—IN\\nTAXABLE SALES $25.85\\nTAK $2.46\\nII S285\\nCASH $40.00\\nCG $11.69\\nORDER #t OQO0000005S2\\nPLEASE HELP US SERVE YOU BETTER\\nSERVICE WAS VERY GOOD mi\\nGOOD A\\nPOOR ‘al\\n\\x0c',\n",
              " '’ VIA EMILIA 9\\n: 1120 15TH ST\\nMIAMI BEACH, FL 33139\\n7862167150\\nORDER: Table 11\\nCashier: V. ‘ 7 Key\\n27-Apr-2017 6:21:59P\\n1 Tagliatella al Ragu’ $14.90\\n1 Cappellacci Di Zucca $18.90\\n. Ss nate on Le tte | Di Ra p ne oe $22.90\\n| ; a | $56.70\\ncae 685.10\\n«$61.80\\n\\x0c',\n",
              " 'eet MOONSTAR RESTAURANT\\nee. 389 GELLERT BLVD., DALY CITY, CA 94015\\neat 650-992-2888\\nSaat tab 424 1p 18:08 #2184\\nmeee TY NAME u/P PRICE\\nmeee 5 FRI-SUN DINNER $29.88 149.40\\nBay © 29.90 SOXOFF BIRTHDAY © -0.50 -14.94\\nseu: te\\nes | TOTAL: 12.11\\nmeee Tip Guide:\\nMeee 10k: + «= 20.17= 186.74\\nee 18%: + 24,20= 170.77\\n20%: + 26,89= 173.46\\n\\x0c',\n",
              " 'ms a\\na\\n7 = E = =\\n. | KFC\\n= Restaurant #0160014 .\\n3880 Hempstead Turnpike .\\n. = - Levittown\\n=~ ae ee (516)735-3508\\nlricket #25384 ;\\n2016-07-08 9:16 PM :\\nC160014 2 117 2884 = =.\\nDp a SA .\\nWashier: TIANA\\nFamily Fill Up 20,00 :\\nLrg Coleslaw\\nLrg Mash/ Gvy\\nLrg Mash Only\\n4 Biscuit\\nY Wet\\nVE THRU $21.13\\nr Cred $21.13\\n$0.00\\n\\x0c',\n",
              " '\\x0c',\n",
              " 'a tr ee ———\\n== The Shawarma Factory\\n== 14817 S. Western Ave Apr 10,2019 aa\\nGardena, CA 90249 12:34 PM —\\n—- Vince Sea\\nSe Ticket: #29 Visa 7286\\n; Authorization 173245\\n= Receipt O3WE\\nNee a eS —=-\\na VISA DEBIT =\\n| AID AO 00 00 00 03 10 10\\nFlame Broiled Chicken $11.99\\n1/2 Chicken, Hummus , House Salad\\nIN) posted es eA\\nSubtotal $11.99\\nSales Tax $1.14\\naE eT TT TN\\nTotal $13.13\\noa ee ee ee @maTzrayz\\n\\x0c',\n",
              " 'Maui Teriyaki\\n27000 Marine Ave #103\\nRedondo Beach, CA 90278\\n(310) 973-3500\\nServer: Annie Station: 1\\nOrder #: 168479 Phone Order\\nCustomer Name: LEANNE\\nGuests: ]\\n>> SETTLED ««\\n1 Salmon Plate i cl cael 11.49\\nBe ° 12.94 ;\\nPn Jae Mi P23 .\\noo |\\nmes |\\n\\x0c',\n",
              " 'CASA CHAN RESTAURANT\\n(S08) 640 easer\\na caen Tuan oathoe nik Facebook Casa\\nChan Restaurant\\nORDER: 9\\nDine In\\nCashier: Diana Z\\n21-Dec-2014 5:23:42P\\n1 #12 Wonton or Egg Drop or $3.75\\nMixed Dinner\\nWonton Soup $0.00\\n2 #01 Egg Roll $3.00\\n1 #23 Juice Chinesse Chop $8.99\\nSuey Honduran Style\\nDinner\\n1 Tropical $5.00\\n2 @ $2.50/12 oz\\n1 Tamal De Pollo $3.50\\n1 @ $3.50/each\\nSubtotal $24.24\\nTax $1.70\\nTotal $25.94\\nOrder DMHGRRFSJPM70\\nBring back this receipt for 10% off your next\\nvisit! :)\\nOnline: https://clover.com/r/\\nDMHGRRFSJPM70\\n\\x0c',\n",
              " '$$ PARADISE\\nAndhra Style Famlily Restauran\\nVadyaranyapura, BANGALORE-560097\\nContact :9148436557/58\\nBILL\\n\\x0c',\n",
              " 'SHAKE SHACK\\n1450 S$. Oixte + Grwepy\\nHost: Nelson Baer\"\\n12 = 2k ow\\nPies\\nShackBurger 3.1%\\nSmoke Shack 6%\\ncheese fries 3%\\nREG Soda (2 62.75) 3.0\\n(2)REG Rootbeer 2\\nREG Iced Tea 2.2\\nSubtotal Z3 56\\nTax 1.88\\nTo Stay Total 25.47\\nVisa #XXXXXXXXXXXX9197 BAl\\nAuth: 130960\\nWe Tweet .\\nYou Tweet.\\nWe All Tweet.\\n\\x0c',\n",
              " 'MRR YAUATCHA\\nYauatcha\\n110578007 Kakin\\nCHK 1867 TBL 84/1 GST 3\\n84\\nRestaurant\\n1 Tender Branch Hibiscus 8,00\\n1 Seafood Puff 10.80\\n1 Sesame Prawn Toast 11.80\\n1 Beancurd Prawn Cheung Fun 10.80\\n1 X0 Scallop Dumpling 8.80\\n1 Poached Beijing Dumpling 5.80\\n1 Spinach Dumpling 6.80\\n1 Tea Smoked Pork Ribs 22.00\\nSubtotal $84.80\\nTax $3.82\\nTotal Due $88 .62\\nInternational Market Place\\n2330 Kalakaua Ave Ste 326\\nHonolulu, Hawaii 96815\\nReservat ions@YauatchaWaikiki .com\\nPhone: 808-739-9318\\n**GRATUITY NOT INCLUDED*#*\\nCar warr FPAnRVTARITOnAProO. ho Baro\\n\\x0c',\n",
              " '| glue Bear Tavern\\n216 § 11th Street\\n(215)922-342/\\nwww bluebear tavern. com\\nCheck #: 00225\\nHate; 01/13/2012 10:16 PM Check 2 oo\\nStation: Pos3 Server: :\\nGuests: 1\\n\\\\ Crimini 5 of\\n\\\\ Salam a\\n1 Olives on\\n| Lrg Clams \\\\nussels oo\\n4 Reg Kete] One 14.0\\n| House Cab 52.0\\nSub Tota] oe\\nPhilly Liquor Tax ¢ Sf\\nMy Pa Sales 12»\\nIOTAL at\\n\\x0c',\n",
              " 'Arthurs\\n237 Washington\\nHoboken, NJ 07030\\n(201) 656-5009\\n1058 Alexandr a Se\\nChk 1644 TAB/62 Gst 3\\nfet01’17 01:44PH Nettie\\nBar ay\\n-thur’s Burger *CheBleu 13.95\\neurger #*Avocado =: 15.95\\nva 12.95\\nif ager 6.00\\nsling 12.00\\noat 6.00\\nead lla 13.95\\n; 56 . 80\\n, . 84.78 a\\n(iii\\n; irtiées 6 O @ ; ee\\nfor Dining with Us pee)!\\nsa 5 al Ll i ic ca ae mege a 2.\\nPrivate Rooms oom.\\nAVA lable for Fath\\nfour Next Par ty! “\\nf\\n\\x0c',\n",
              " 'Y CHLOES1 eee\\n81 Ludlow St ae\\nNew York, NY 10002 . ) .\\nTel 212 677-0067\\nCheck Name: HWANG ,HYUN a\\nServer: Bar ee\\nDate: 08/03/18\\nTable: Guests: 1\\n; APRA SPENT OR Khoo TL Ra ia)\\n: [Seat 1] Se oe sesame\\n2 HOUSE VODKA $24 .00\\nhd ] HOUSE TEQUILA $12.00\\nse DMUMRADM RES BREET ULES NN SEN ORO\\n. Subtotal: $36 .00\\nTax: : $3.19\\n: Sub w/Tax: $39.19\\n! Gratuity: $7.20 “\\nAmt Due: $46.40\\nVisa EMV $46.40\\nPe a Thank You eer 3 sia a\\n\\x0c',\n",
              " '\\x0c',\n",
              " 'sien a i a — i}\\nE a i |\\na -=slI\\nee i\\nNiNaiitiea : Caribbear mMeStaduial\\nra cee A air AD A ae ear\\n12709 BEECHNUT ST STE100\\nPak Bar are m8 ae\\nHO! STON, T ten\\nvi Na Ann : |\\n1328902 38%\\n7 1\\nORDER\\noe S Bae Gnd O ‘\\nf lee.\\nae A\\nd 3:07:40P.\\n.\\nny\\n\\x0c',\n",
              " '|\\n|\\n{\\n\\nRE ee,\\nCOT Wath Quay, Phnom Penh, oie\\n\\nTel: 0969591427\\n\\nj soni vB18hotaail.co\\n\\nTICKE =i /40 Nate: 74-NC\\nHOU MW 2 }\\nueee AORA,\\nanew ) yf\\n\\x0c',\n",
              " '| j\\nj\\nfou Sav\\nHOW was your vii\\n\\x0c',\n",
              " '\\x0c',\n",
              " 'a oo\\naC we\\nESQUIRE GRILLE\\nSACRAMENTO INTL AIRPORT\\n4/079 Jodi betas.\\n1264. Gt 2\\n2144\\nAPRO4\\' 16 6: 09PH\\n\"RINE Ia\\ntte SEAT 1 \"rte.\\nT DB WOODFRO RES 2 17,59\\nNEAT\\n1 CAB PEyy SAUY § 17.00\\nPeju Cabernet S@uvignan\\n) SAND GRLO CHIX 714.50\\n80 CHOP sip\\n/ ORS BLUE CHS\\nORESS ON SIOE\\n’ Sto SHRINP LOUTE 24.00\\nH/ DRESS on SIDE\\n1 SD BRusser SPRTS 7.00\\nTAX 3.96 AMOUNT 0 80.45\\nFESR GE FRPP EE\\nSUBTOTAL 74.49\\nTAX 5.96\\nAMOUNT pur SBO0l45\\nWE WANT To HEAR Your FEEDBACK:\\nPLEASE CONTACT 1-877-672-7467\\nOR CUSTOWERSERVICEGHNSHOST . COM\\nTO SHARE your EXPERIENCE,\\nSTOREIO; Sueeacns\\n\\x0c',\n",
              " 'Cl ceeesreninseineenatta\\nCollec tol » Choice Restaurant\\n215 Cypress Ave\\nsnohomish WA 98290\\n360-568-1277\\nApril 10, 2019 12:00pm\\nTicket: 1904100085\\nServer: Cheryl V\\nSeat: Dining: 18: |\\nItem Price\\n1 Twisted Rueben 11, 691\\nSubtotal 11. 69\\n1 Service Fee (-6%) --(), 707\\nSales Tax (9. 2%) 1.14\\nTotal $13.53\\nTip Helper:\\n15%=2. 03 18%=2.44 20%=2. 71\\nStarting January 25th, 2019\\nCCR includes a 6% service charge on each\\nguest check.\\nThis service charge is fully retained by\\nthe company, not the servers. It will be\\nused 100% to provide fair wages for our\\nkitchen staff with equitable pay and\\nbenefits to our entire team.\\nWe are required by law to collect tax on\\nthe service charge.\\nPlease Continue Tipping your Servers.\\nThank you for your continuing support. —\\nReceive a 3% Discount for paying with\\ncash. —\\nSee 3\\n\\x0c',\n",
              " \"S KALOOKI'S\\n! 03/14/2015 8:12 PI\\nHt, by? 300\\nDine in —\\n# Item Unit Price\\n1 Chitken Fingers 8.00 8.00\\n1 Spicy Shrimp 20.00 20.00 —\\n1 Steamed Fish Lg 25.00 25.00\\n2 Bottled Water 2.00 ye\\nSubtotal $7.00\\nService Charge 10% a 5. si\\nTotal $627\\nThank You\\n\\x0c\",\n",
              " \"Gordon Ramsay Steak\\nParis Las Vegas\\n10/21/2014 19:41\\nGordon Ramsay Steak\\nCheck: 2042367 Table: 1-35\\nServer: Lomberto Guests: 2\\nTerminal: 42\\nRegular\\n1 Pima's Cup 14,00\\n2 The Orifter 28 ,00\\n6 14,00\\n1 Kobe Beef S1ider 18.00\\n1 New York 63.00\\n1 Amer Kobe Filet 79,00\\n1 Lobster Tail] 38 .00\\n1 Potato Puree 12.00\\n1 Grlld Asparagus 13.00\\n| Peppercorn 6.00\\n| Pepsi 6.00\\n1 Choc Pot De Crem 13.00\\nSubtota] 290.00\\nTax 23.49\\nTota] 313,49\\n\\x0c\",\n",
              " 'Via Var Restaurafit\\n4105 Maine Ave\\nBaldwin park, ca 91706\\n626) 939-9019 0\\nServer: Tsabe | stat ion: .\\nOrder #: 320502, 2 bine 1\\nTable: ig guests: ?\\n6 TAP BEER 10-HH 9.54\\nModelo Tap. 0\\n2 Manzanita Sol 5.5\\n1 Tamarindo 2.19\\n1 Sprite 2.15\\n1 Thur. 2 Cock Shrimp 11,95\\n2 Whole Fish 21.90\\nTilapia Wh]\\nFried\\n1 2 tcs Governador 7.19\\n> plan ,fries j\\n1 French Fries 2.5\\n1 Taco DE Asada 2.25\\n> plain,papas\\nSUB TOTAL: 66.89\\nTax 1: §.35\\nTax 2: 0.00\\nNT DUE: $7324\\nty: ts oe eames\\n9/6/2018\\nSK AAAA AAA AAA AA AAA EERE\\nvoir server __.\\n\\x0c',\n",
              " '\\x0c',\n",
              " '‘ aa:\\n7 es\\n| 7\\nee\\n\\nTi\\nay h 1. =\\n‘Oty Bhieicobae\\n——- ----e\\nSe FIsh |\\nSehr? A ae le\\ni : FOr os\\nBl Wine rc\\n\\nDes a\\n1 Wine rT\\nweed tees oS\\nesis\\n= i ae\\nSn as\\n\\x0c',\n",
              " '\\x0c',\n",
              " 'EN vail\\nMITASU JAPANESE RESTAURANT SDN BHD\\nB-01,CENTRAL PLAZA,\\n34, JALAN SULTAN ISMAIL,\\n§0250 KUALA LUMPUR\\nTEL 03-2110 2833\\n(GST Reg. No : 001774428160)\\nTax Invoice\\nTable D2\\nBi] 1#;V001-201060 Odr No: 199535\\nDate : 29-06-2018 19:59:15\\nCashier: AARON Pax(s): 11\\nQty Description Total TAX\\n11 (28.01) Adult 0 709,50 SR\\nSubtotal: 709.50\\nServ. Charge (10%): 70.95\\nGST Payable (0%): 0,00\\nTotal: 780.45\\nTOTAL: 780.45\\nf eee\\nClosed: 001 29-06-2018 21:52:03 arse\\nVI _ 780.45 ;\\n= nan423002 ‘\\n= LIM CHAT JA pM.\\ni “ae Ine a Y Ss a /\\n\\x0c',\n",
              " 'Taco Time - Kenmore\\n(425) 486-4472\\n6733 NE 181TH SI\\nKENMORE WA 98028\\nDT >248\\n04/24/2018\\nos 7:08 PH\\n30126\\né pe Drive Thru\\nf ACO BF 5.99\\ntota 5.99\\n. 0.60\\nDrive Thru Total 6.59\\noH $10.00\\nChange ¢\\n9g $3.41\\nThank you,\\no om: cs .\\nCaS Come again!\\n\\x0c',\n",
              " \"es\\n=e a ' :\\nAngelo's Pizza Restaurant\\n12247 Sheridan St\\nCooper Cityb, FL 33026\\n(954) 893-2000\\nServer: Melina Station: 2\\nOrder #: 4876 Dine In\\nf Table: 1 Guests: 4\\n1 Sprite 2.55\\n1 Chicken Caesar Salad 8.95\\n1 Chefs Special 19,95\\n> Chefs Special\\nSoup of Day\\nQ Bar Subtotal: 0.00\\na Food Subtotal: 31.45\\n| Tax 1: 1.89\\ni ‘\\n>» Ticket #: 56 «\\n7/10/2017 9:32:06 PM\\nTHANK YOU!\\n\\x0c\",\n",
              " 'H §:39°P Be\\nF . .\\n; pe “\\nCopa ‘Glad Pinot Gr 9.90\\n1 Lemonada 3.50 ;\\nBie eee £09\\n1 Gratuity. Sit em\\na at felon Rea\\nSales Tax; 2.74\\ni An\\nCheck Total $ 53,23\\nAdditional Tip =\\nTota’ Charge:\\nIS% tip is 7,57\\n18% tip is 9.09\\nj 20% tip is 10.10\\n22k tip is tt\\n/ } , Thank you for Coming\\nes a Gracias por s, Visita\\n\\x0c',\n",
              " 'Junipel & ivy\\n2228 Kettner Blvd\\nsan Diego» CA 92101\\n1045 SAGE 0 cs opeeewelgees--\" a\\ney tk 4520 gst 4\\nely Oct06\\' 16 07:08PM\\nBice 17 :\\n1 BUCATINI 17.00\\n1 RAVIOLO 18.00\\n| + BT TURNBULL NAPA 90 .00\\n1 HALIBUT 36 .00\\n1 YODEL 12.00 °\\n1 MILK & HONEY 10.00\\n1 COFFEE SM 6.00\\n1 GL ROUND POND SB 13.00\\n1 OCTOPUS 16.00\\n1 BEEF TARTARE 12.00\\n| FINLANDIA (WELL) $MARTINI 11.00\\n1 HALIBUT 38 00\\n1 SNAPPER 78.00\\nSubt\\nTax otal 7\\n, 09; 12\\n© 19PM Total S333 .72\\n= i Fug TD halalalalaadadel\\nuae * po y ir § A EE OE SEL Se Oe Oe a\\n\\x0c',\n",
              " '—— 2\\nre ere —\\n<5 ae\\nBor a oa ;\\nPP ee - & o- ‘es Sees\\nDEN S&S ~\\n\\x0c',\n",
              " 'the\\nee\\nc \\\\ ICIEN\\nca .\\n« JDCAR\\ns Cafe\\ncaSt Hampton, NY\\n(631) 329-1600\\nFax (631) 329-1648\\nwww, goldenpearcafe.com\\nDate: Aug06’15 11 ‘O1AM\\nCard Type: Visa\\nAcct #; XXXXXXXXXAXX 1779\\nExp Date: XX/XX\\nAuth Code: OB8316C\\nCheck: 9391\\nCheck ID: CHINO\\nServer: 5 Karina\\nSubtotal: 22.40\\nTotal\\nSignature ==\\nI agree to pay above total ot\\naccording to my Card issuer Be\\nagreement . PB 7\\nCustomer ged\\naiieien Copy\\nSous es . ~\\n\\x0c',\n",
              " \"5 ee «hy EL CHICO MEXICAN RESTAURANT 2\\ni ee TEL : 04-7059680 Pca\\n2D gk eS 4 1050 Home Del ae .\\nee eS Tol 1014/1 chk 1958 Sisto Sie\\ntt Novi2'16 05:41PM atte ee\\nHome Delivry\\n1 Ts Guac 48.00\\n1 Grande Chicken 64.00 aa\\nBuritto yy\\na }\\n| el vey Oe 2\\nAmount Due 117.00 |\\n= he\\n\\x0c\",\n",
              " 'p SEAFOOD KITCHEN X\\nPappadeaux Seafood Kitchen (612)\\n7800 Airport Blvd (HOU)\\nHouston, Tx 77061\\n(713) 847-7622\\nOO89 Table 7 #Party 2\\nDANIEL 0 SvrCk: 7 12:46 01/07/17\\nDINE IN\\n1 Side Craw Etouffee 4oz 10.98\\n= 1 Pan Seared Tilapia 2\\\\.99\\ni 2 Tea 5.98\\nSub Total: 38.95\\nTax: a2)\\nSub Total: 42.16\\n! 01/07 13:29 TOTAL : AZ.16\\nThank you for dining at Pappadeaux!\\n1 Tip Not Included\\n18h Tas\\n20k\\n\\x0c',\n",
              " 'Z_\\ni\\na }\\n|\\n. a NY o> .\\nEasa RUBIO cafe \\\\\\n28-17 Astonia Owe y 2) 2019\\nAstoria, NY 11102 658 PM\\n(929) 328-0030\\nTicket: Tt\\nas ==\\nGrilled Skirt Steak $28.00 i\\nWell done\\ni Fountain Sodas $3.00\\nSR $31.00\\nTotal\\n$33.75\\n\\x0c',\n",
              " 'CARL’S JR\\nRestaurant 1100580\\n11961 Beach Blvd,\\nstanton, CA 90680\\n(714)895-5114\\n9/27/2017 12:13:06 PH\\nOrder 375719 Cashier: Alvaro I\\n1 Box #1 0.00\\n1 All Star Meal #1 1.00\\nDb| Chbgr 0,00\\nHot Dog 0.00\\nBaked Cookie 0.00\\nLg Fries 3.00\\nLg Bev Bar 3.00\\nSubTota | 7.00\\nTax 0.61\\nlotal 16\\nCash 8.00\\nChange 0.39\\nTo Go\\nThank you for visiting!\\nTicket #45\\nItens in bag(s): 4\\n\\x0c',\n",
              " 'Delmonico’s\\ni Stenkhouse ™\\n1853 CENTRAL AVE\\nf ALBANY, NY 12205\\n(518) 456-5656\\nje Server: (Sarah 08/22/2015\\nTable 57/1 9:24 PM\\nGuest 1 : |\\n#70056\\nNo Bev (2? #0. 00) 6. 00\\nMozzarella Fritta 7,99\\nDelmonico Steak 24.99 &\\nAsparagus 9.99 A\\nBaked Potat oo Re\\n— Uniimited 9 99 ae\\naa\\n42.95 :\\n3.44 Rs\\n46.39\\ne 46. 39 4\\nIncluded\\nad Meatuitye\\n\\x0c',\n",
              " \"Buca di Beppo '\\n; Store#0511\\nUniversal City, CA 91608\\n818.509.9463 ”\\n| 7\\nServer: Molly 07/15/2016 |. —_\\nTable 53/1 7:57 PM rg ‘\\nGuests: 3 40020 f\\nOrder Type: Dining cc _ | .\\nUN #65 a see ees 7\\n~ : >\\n= a= Iced Tea 390 Theresa\\n<A | Sm Garlic Bread 9.99 —~\\n©aS0n #9 G9z Buca Chianti (2 @14.09) 28 .00 ENG)\\n3 G] Buca Chianti 10.00\\nSm Chop Antipasto Salad 18,99\\nLg Supremo Pizza 29,99 y\\npete HHEEHee\\n4 We value your opinion. i:\\n‘3 Visit bucafeedback.com te complete\\na brief survey and enter our weekly Le\\ndrawing for a chance to win a = 8\\n$100 digital] promotional certificate. is\\nSee bucadibeppo.com/buca-feedback-rules eae Og\\n. ae for Official Rules and restrictions. LDe\\nU din_; a O9a58\\noiat't cing 091 257 000 051 115 4ay Sn.\\nSch sei nits a 'p tae! <4\\npr Ol dea a ee asta! 7\\nfor you\\nf ee <j. .\\n‘Subtotal 100.26 | ara\\neae 9,02 too\\nnae Lo =a iL\\nHin Ma” |b u\\n‘Total 109,28 Aaa...\\n_—_ mee Due 1093.28 das [\\n\\x0c\",\n",
              " 'CASHIL P es 4 i oe ob a aq\\nity Hen Ttew dnote\\ni ii OOO GIiettne cette: daha an bah aber ehermsenaben seeasaetienesbuneenlt, “ee\\n2 FRENCH FRIES 190.00\\n4 1 OPEN FOOD 60.00\\n1.00 HANESH  SAUS 60.00\\n1 PANEER TIKKA 248.00\\nTotal 498.00\\nSERVICE TAX @ 4.94% 24.40\\nGrand Total 523.00\\nVAT NO : 27840289613V\\n| -BSSSTHANK YOU & VISIT AGAIN sa88\\ni,\\n\\x0c',\n",
              " \"Vy, :\\nMat the vc) B15 a\\nwa\\n4 ve Abb ie Staton: 10\\n\\\\ Bi bine tn\\n; f \\\\ sts: t'3\\nLF DIP 3.9\\nKE pes\\nSOUR , 1.25\\ngoto. 16.99\\n’ Le\\nTOTAL: ; $11.15\\n» idl «)\\n; 12/2/2017 11:43: aM\\nTHANK You sf\\n\\x0c\",\n",
              " \"Table Of). 8\\n‘Quan Dest ript POs ar Co\\n1 Bottled Water $2.45\\n1 Add Pollo Taco $4.95\\n1 Add Carnitas Taco $4.95\\n{ Sour Cream $1.25\\n| Chihuahua Cheese $1.25\\nNet Totals eee\\nIL Sales $1.52\\nMPEA Tax $0.15\\nRestaurant $0.04\\nTOTAL: $16.55\\nFood: $12.40\\nBeverage: $2.45 7. id\\nee EMS 5\\nnm\\nA Robinson Hill Company\\nIt's The ExpeRHience That Counts! i\\nlell us about your visit! wt.\\nWh! POD LTISONNL 1 1US@ COM/GUESt=SUPVEy t\\n— |\\n\\x0c\",\n",
              " \"*\\n: - Pal Steak House\\n| 2023 South Pine Avenue «\\n’ Ocala, Florida 3447]\\n} (352) 622-1741\\n|\\n} Date: 04/13/18 Time: 09:16 pm\\neee Urcer #415\\nWea! Server Kylelig\\nTabic #: 12\\n1 DINNER RODIZIO $41.95 :\\nSub-total: ae:\\nGratuity: $10.49\\nTax: $2.94\\nTotal: $55.38\\nPay {N'S AMOUNT:\\nRecomended Gratuity:\\n20S = $8.29 24 = $9.65 ON = $10.49\\nThankYou\\nPease Come a\\nUNE UE UV UO A)\\n\\x0c\",\n",
              " 'Bar Louie Huntsville\\n365 The Bridge St. ,Suitel\\nHuntsvilte, AL, 35806\\nServer: 07/03/2015\\nCashier:\\n143/2 4:42 PM\\nGuests: 1 20111\\nReprint #: 1\\nWhiskey . 6.25\\nSubtota | 6.25\\nTax 1.3]\\nTota] 76\\nCASH 10.00\\nChange Bt\\nThank you for visiting us!\\nAsk us about hosting\\nyour party or private event\\nat Bar Louie Huntsville!\\nEat, Drink, Be Happy!\\nhuntsvil le@bar loujeamerica.com\\n--- Check Closed ---\\n\\x0c',\n",
              " 'FT as y\\nos! i me ass wil”\\ny HEDLEYS\\n640 N ROBERTSON BLVD\\nWEST HOLLYWOOD CA 90069\\n310-659-2009\\n| terminal 1D: 0152825) 3430\\ni a ae i =\\ni\" eA is salt 2:52 PM\\n‘ ee oy\\nA | |\\n54 AUTH f#: 065231\\n\\x0c',\n",
              " '£1 Charro Cafe Ventana\\n6910 E SUNRISE OR\\n; Ana 06/24/2018\\nfabre 24/1 8:00 PM\\nGuests: #30076\\nCoors Light 5.00\\nIce Tea uae\\nShrimp Fajita 18.95\\nStuffed Chicken 17.95\\nSubtota] 45.15\\nTax a\\nTotal 47 30\\nBalance Due AZ .30\\na\\na eee ae\\n\\x0c',\n",
              " '\\x0c',\n",
              " 'iz Server: |\\nFourthStreetMill Receipt\\n2124 BONITA AVENUE\\n| A VERNE, CA 91750\\n(909) 596-1564 Subte\\nDine In\\nS IC IMIR Total\\nServer: Chris D sep 29, 2018\\nReceipt: 4J33 5:38 PM —\\nTable: P5 Ard\\nA LE\\nTit\\nItem(s)\\nTo\\nLamb Burger $13.00\\nNO Goat Cheese y\\n- NO Bread |\\n- Medium :\\n~ Sauce On Side\\nKids Grilled Cheese $5.00 :\\nKids Fries $3.00\\nSweet Potato Fries $3.00\\nKids Cheeseburger $7.00\\n- NO Ketchup\\n- No bun\\nSub sourdough\\nBeef Burger $10.00\\n- Medium Rare\\nSides $3.50\\n- Bacon (2) Slices\\n+ ee\\nSubtotal $49.50\\nSales Tax (Incl. 9.5%) $470\\npr $54.20\\nLae\\n\\x0c',\n",
              " '|\\n4 ee\\nhee\\nae\\n7 oe a:\\nee ;\\nand tert\\n¥ F\\naz sa 4 | :\\n: |\\nf\\n\\x0c',\n",
              " \"cmos,\\n1221 Avenue of the Americas\\nNew York, New York 10020\\n1075 Rebekkah is\\nTb] 240/1 Chk 1061 Gst 5 el\\nApr07' 16 07:53PM vf\\nDine In\\n| 4 Strip 160z 212.00 :\\n1 Ribeye Bone In 69.50\\n1 Cauliflower 16.50\\n1 Baked Potato 10.50\\n1 Asparagus 15.50\\n1 Onion Rings 14.50\\n16.00\\n25.50\\n24.00\\n35.86\\n\\x0c\",\n",
              " '4 ee\\n\\n4 , |\\n\\n. _ /\\n\\noleae f 4\\n) f. ¥ ae |\\n= , 4\\n\\n7: Abed\\n\\nPama\\n‘ =\\n\\x0c',\n",
              " 'Ja 9; \\\\ o 50 i .\\nwi 15 nor OF\\n512-28 512-285-3950\\n-- ——\\n4\\n} i Pf ft\\n\\' ~ ~ fk\\naren hy Cc r i\\n_ Water 0.00 ~\\n- ud do de Camaron. * 8,99\\n{ = 8.998\\nmF\" pt\\noes + ; Se: . \\\\ 0.27\\nss e ; * & oo =\\nd whet - i 10 00 *\\n\\x0c',\n",
              " 'ACC oo EEE\\nO193 Table 54 #Party 2 va\\nWILLIAM L = SvrCk: 10 8:07p 03/22/13\\nDINING ROOM\\nT5 MAIN DINING\\n| BEEFEATER-MARTINI 11.50\\n1 ROSEMARY CAIPIRINHA 13.00\\n| CRABCAKES 17.00\\n1 BLACK PEPPER BACON 12.00\\n1 Millenium 2# 52.00\\n1 NY SIRLGIN 46 .00\\n1 BRUSSEL SPROUTS 13,00\\n1 ESPRESSO 4 50\\n1 LAUREN’S HAZELNUT TORTE S00\\n)\\nSub Total: 176.00\\nTax : 15,35\\nSub Total: 193.35\\n03/22 9:5ap TOTAL : 193.35\\nS\\n\\x0c',\n",
              " '\\x0c',\n",
              " 'Family Restaurant \"eq!\\n/3/19 8:14 PM Lh fn Je i\\nDARWIN\\'D. Table: 10 Check: 137 i Hh?\\n3 Prem Glass @7.50 92.50 WA\\n1 MED Veggie 627.00 $27.00\\nSub-Total $49.50\\nSales Tax $2.97\\nTotal $2.47\\nPaynents\\nMASTERCARD #446170 $52.47\\nAnourt Due 0.0\\nCharge Reneigt\\nServer; DARWIN D.\\nfable No: 10\\n\\x0c',\n",
              " '| . =\\nNa [aa | + e\\\\\\n¢ “i Spiral Diner & Bakery wee _~\\n7) 4 608 E Hickory St 4 =\\na Denton, TX 76205 goa ah\\nfe Order# 195736 Sue\\na Eat In Order oe.\\niz Server; Sarah A\\nTable: 9 i\\na Date: 6/16/19, 10:04 AM ae\\nReal Smooth ie een —\\nShort Stack tea ae\\nCoffee $2.99 a |\\nBreakfast Quesadilla $13.99 ae\\nNO Sausage +$0 .00 —\\nGrilled Spinach *$\\\\.99\\nSouthern Comfort $10.99 || ae\\nSubtotal: Bas. $46.54 Vs\\nTotal Tax: Ss ae\\nTotal: $50.38\\n; 40 38\\nOrder Balance due: §\\nwww. spiraldiner .com\\n? piste fi x A as air id alee m/sp’ fa |diner ;\\n\\x0c',\n",
              " '-\\n1\\n% , ,\\nSe a 3 a eae\\n4eeT V. 4 | 2ccoli > Oa des\\nad ce .\\nL. _\\nRi.\\na\\na\\n‘\\n: A\\n\\x0c',\n",
              " 'oe\\n7 - |\\nP\\n187 MEGA\\nBeepgnhes\\n‘TOT 4\\nor\\nJ\\n& f\\n-\\n\"\\n=\\ni\\na F\\n|\\nf\\n\\x0c',\n",
              " 'Z x he & S$ fo < 7 j\\nCY’ j ee\\nTP 72 ee yg\\nae Fa\\n5° f {|\\nSa Bomeay Gait\\n= House\\nDs AO ela\\nBombay Grill House\\n764 9TH AVE\\nNEW YORK, NY 10019\\n2129771010\\nAny Special Offer will be at End of Receipt\\nORDER: Table 2\\nDine In\\n30-Jun-2018 10:36 38P\\nTransaction 104379\\n7 Onion Bhajia $5.95\\n1 Lamb Vindaloo $14.95\\nmedium\\n1 Konkan Fish Curry $16.95\\nmedium\\n1 Shrimp Briyant $16.95\\nmedium\\n1 Garlic Naan $4.00\\n1 Hess Cabernet $50.00 :\\nSubtotal \\\\ $108.80\\nTax $9.66 :\\nTotal $118.46 .\\nCREDIT CARD AUTH $118.46 ~e\\nMASTERCARD 0148\\n7 2s5.s#\\nTip ——\\nTotal OU\\nran sri\\n= cnwin Al FXANDER\\n\\x0c',\n",
              " '\\x0c',\n",
              " 'ayawrono*D\\nTTO SOUTPCENTOR PalmAy\\nTURMILA, MA S8188\\n206.575.7454\\n26120 Janell #\\nTb) 127/1 Chk 3685 Gst 3\\nSep30\"17 07:38 7\\n; ) CHIC TEND AP 9.95\\n1 RIBS 1/2 ST 18.35\\n\\' 1 BRG DELUXE 14.95\\nK TIMING 5,95-\\n{ SUBTOTAL 3.90\\n} TAX 3.39\\n; TOTAL QUE 37.29\\nHAPPY HOUR\\nMONDAY TO SATURDAY\\n3 pa to 6 pe and 9 pm to close\\nSUNOAY HAPPY HOUR ALL DAY\\nJoin cur EAT ORINK & EARN Club\\nO.#arn aris ii le 100\\nn\\n\\x0c',\n",
              " '\\x0c',\n",
              " '\\x0c',\n",
              " \"TERE ig 8\\nges Amici Conye\\ner cag rs\\nBee. oy 1805 Parker RD Suite 6110\\n= 4S ha 1805 Parker Rp\\nseta 5 (678) 890-2005\\nese, ©,\\nfft.@ 3 4 .\\nRate Server: Nicole 08/10\\nTable 62/1 mee\\n3) i ’ Guests: 2 30004\\n=is8\\\\ TM Seat |\\n= ag it trtesetesese Ms,\\nvie ath . ; /'\\nSta Margherita Caizcne a\\nSide Caesar 4,99\\na al Subtctal 19.27 \\\\ een\\n3 las Tax 1.35 g.\\noR Total 20.62 ; stita\\n: — Seat 2 Re\\nJERR EERE EAR a oo\\nCoke 2.29 i\\nDb] Stack Cheeseturger 8,99 » ae\\nBacon 0.99 9?\\n. 5 Subtctal 12,27 % a9\\ns Tax 0.86 STS\\nO Tetal 13.13 , Bee\\nNorm cael a\\\\ 4\\nese a. . ; ' Fy & Yacee sian\\nsass Subtotal] f 31.54 EW. i\\nmh Eee sets Pt; FSET 9\\nXE Tak as im 2.21 Pe BEEN\\na 2 93.75 Meth of\\n| De® gia\\n=. WhO ISK\\nCl i\\n- Mee... vw: al\\nThank you fo sini vi eo\\n3 GESTED GRATULIY: Vg\\n; ‘ 4 fae GRA ib oo - ue\\n\\x0c\",\n",
              " '‘i , 4 a\\n2\\nili\\na raat *\\nee anes {I} 1k\\nfs a r TIVWwA F\\nfi 7 wy p\\nPo NAME. “ADE\\na he 78g ace 4\\na hore\\nDanke CHECKS 7 .\\ntet ‘losed + :\\n= f, Closed to C i\\nse o> i\\n| ee\\noe Thaa rr.\\n=f JATE/TIN :\\neS SERVER: Ta: te\\n»* )\\nF - DD G\\ni. | Count: &\\nAL\\nSLU LU at\\nae bee\\n> ‘ Jerre Tre\\nnets\\n\\x0c',\n",
              " \"iF\\n. 4\\noa\\nBAR R 1st oORAH! E\\nSTABLL IMENTO HARINO E TERMALE\\nSAN HONTANO §.R.L.\\nura s.MONTANO - LACCO AHENO CHAD\\nparTitAa LUA 90200430635 '\\n: EURO\\nx 0.50 :\\nGictai e Stoviglie 1.00 .\\n2 x 5.00 ; i\\nHacedonia : 10.00\\nInsalata Negombo y 10.00\\nBufala 8.00\\nPomodorini 4.00\\nNat 1/2 1t 1.00\\nTOTALE 3600\\nCONTANTE\\nREG. 001 OPER. 1\\n28-08-2018 12:41 ;\\nSCONTRINO FISCALE N.\\nrr W : ,\\n\\x0c\",\n",
              " '\\x0c',\n",
              " '\\x0c']"
            ]
          },
          "metadata": {
            "tags": []
          },
          "execution_count": 81
        }
      ]
    },
    {
      "cell_type": "code",
      "metadata": {
        "colab": {
          "base_uri": "https://localhost:8080/"
        },
        "id": "bHckq5OZUwjl",
        "outputId": "a5096026-7212-4bdf-98d6-de71bf2b73ac"
      },
      "source": [
        "len(l_test)"
      ],
      "execution_count": 82,
      "outputs": [
        {
          "output_type": "execute_result",
          "data": {
            "text/plain": [
              "70"
            ]
          },
          "metadata": {
            "tags": []
          },
          "execution_count": 82
        }
      ]
    },
    {
      "cell_type": "markdown",
      "metadata": {
        "id": "-VNexwl8j1_N"
      },
      "source": [
        "# Extracting Bil Amount"
      ]
    },
    {
      "cell_type": "markdown",
      "metadata": {
        "id": "hWsupYAMmt64"
      },
      "source": [
        "Searching terms like total,cash and amount that may contain the total amount"
      ]
    },
    {
      "cell_type": "code",
      "metadata": {
        "colab": {
          "base_uri": "https://localhost:8080/"
        },
        "id": "uPJCOKAOmvbQ",
        "outputId": "14a16863-a837-44ab-cd56-884d2cdaca90"
      },
      "source": [
        "ka=[]\n",
        "for i in l_test:\n",
        "  ka.append(i.split('\\n'))\n",
        "ka\n",
        "for i in ka:\n",
        "  j=0\n",
        "  while j<len(i):\n",
        "      #result1=re.search(r\"subtotal\", i[j].lower())\n",
        "      result2=re.search(r\"total\", i[j].lower())\n",
        "      result3=re.search(r\"amount\", i[j].lower())\n",
        "      result4=re.search(r\"cash\", i[j].lower())\n",
        "      result5=re.search(r\"tl\", i[j].lower())\n",
        "      result6=re.search(r\"total due\", i[j].lower())\n",
        "      if result2==None and result3==None and result4==None and result5==None and result6==None:\n",
        "        i.pop(j)\n",
        "      else:\n",
        "        j=j+1\n",
        "ka\n",
        "final=[]\n",
        "for i in range(len(ka)):\n",
        "  for_this=[]\n",
        "  for j in range(len(ka[i])):\n",
        "    result=re.findall(\"\\d+\\.\\d+\",ka[i][j])     #This searches all the floating values in the string containg total,subtotal and amount \n",
        "    if len(result)>0:\n",
        "      for_this.append(float(result[0]))\n",
        "  if len(for_this)==0:\n",
        "    final.append(0)\n",
        "  else:\n",
        "    final.append(max(for_this))               #Appending the maximum float value present for each image since total amount is the sum of prices of all the items\n",
        "final"
      ],
      "execution_count": 83,
      "outputs": [
        {
          "output_type": "execute_result",
          "data": {
            "text/plain": [
              "[47.09,\n",
              " 40.0,\n",
              " 0,\n",
              " 12.11,\n",
              " 0,\n",
              " 0,\n",
              " 13.13,\n",
              " 0,\n",
              " 25.94,\n",
              " 0,\n",
              " 25.47,\n",
              " 84.8,\n",
              " 0,\n",
              " 0,\n",
              " 0,\n",
              " 0,\n",
              " 0,\n",
              " 0,\n",
              " 0,\n",
              " 0,\n",
              " 74.49,\n",
              " 13.53,\n",
              " 7.0,\n",
              " 0,\n",
              " 66.89,\n",
              " 0,\n",
              " 0,\n",
              " 0,\n",
              " 780.45,\n",
              " 6.59,\n",
              " 31.45,\n",
              " 0,\n",
              " 0,\n",
              " 0,\n",
              " 22.4,\n",
              " 117.0,\n",
              " 42.16,\n",
              " 0,\n",
              " 8.0,\n",
              " 0,\n",
              " 100.26,\n",
              " 523.0,\n",
              " 11.15,\n",
              " 16.55,\n",
              " 55.38,\n",
              " 10.0,\n",
              " 0,\n",
              " 0,\n",
              " 0,\n",
              " 49.5,\n",
              " 0,\n",
              " 0,\n",
              " 0,\n",
              " 0,\n",
              " 193.35,\n",
              " 0,\n",
              " 49.5,\n",
              " 50.38,\n",
              " 0,\n",
              " 0,\n",
              " 118.46,\n",
              " 0,\n",
              " 37.29,\n",
              " 0,\n",
              " 0,\n",
              " 31.54,\n",
              " 0,\n",
              " 0,\n",
              " 0,\n",
              " 0]"
            ]
          },
          "metadata": {
            "tags": []
          },
          "execution_count": 83
        }
      ]
    },
    {
      "cell_type": "code",
      "metadata": {
        "colab": {
          "base_uri": "https://localhost:8080/",
          "height": 35
        },
        "id": "6d4oSFPRnCYU",
        "outputId": "77840ddb-81b4-4f6f-887d-25c19f400efa"
      },
      "source": [
        "def Trim(s):\n",
        "  new_s=''\n",
        "  for i in range(len(s)):\n",
        "    if s[i] in '1234567890.':\n",
        "      new_s=new_s+s[i]\n",
        "  return new_s\n",
        "Trim('154.  7868')"
      ],
      "execution_count": 21,
      "outputs": [
        {
          "output_type": "execute_result",
          "data": {
            "application/vnd.google.colaboratory.intrinsic+json": {
              "type": "string"
            },
            "text/plain": [
              "'154.7868'"
            ]
          },
          "metadata": {
            "tags": []
          },
          "execution_count": 21
        }
      ]
    },
    {
      "cell_type": "code",
      "metadata": {
        "colab": {
          "base_uri": "https://localhost:8080/"
        },
        "id": "Zwu2SD-fnLFn",
        "outputId": "f7352e0a-c85c-4587-c418-be8510e2f175"
      },
      "source": [
        "for i in range(len(final)):\n",
        "  if final[i]==0:\n",
        "    s=l_test[i]\n",
        "    for j in range(len(s)):\n",
        "      result=re.findall('\\d+\\. +\\d+',s[j])\n",
        "      result2=re.findall('\\d+ +\\.\\d',s[j])\n",
        "      result3=re.findall('\\d+ +\\. +\\d',s[j])\n",
        "      if len(result)>0:\n",
        "        for z in range(len(result)):\n",
        "          result[z]=float(Trim(result[z]))\n",
        "        result=max(result)\n",
        "      if len(result2)>0:\n",
        "        for z in range(len(result2)):\n",
        "          result2[z]=float(Trim(result2[z]))\n",
        "        result2=max(result2)\n",
        "      if len(result3)>0:\n",
        "        for z in range(len(result2)):\n",
        "          result3[z]=float(Trim(result3[z]))\n",
        "        result3=max(result3)\n",
        "      if result==[]:\n",
        "        result=0\n",
        "      if result2==[]:\n",
        "        result2=0\n",
        "      if result3==[]:\n",
        "        result3=0\n",
        "      final[i]=max([result,result2,result3])\n",
        "final\n",
        "for i in range(len(final)):\n",
        "  if final[i]==0:\n",
        "    final[i]=sum(final)/len(final)\n",
        "final"
      ],
      "execution_count": 84,
      "outputs": [
        {
          "output_type": "execute_result",
          "data": {
            "text/plain": [
              "[47.09,\n",
              " 40.0,\n",
              " 38.06942857142858,\n",
              " 12.11,\n",
              " 38.61327755102042,\n",
              " 39.16489580174928,\n",
              " 13.13,\n",
              " 39.724394313202836,\n",
              " 25.94,\n",
              " 40.291885660534305,\n",
              " 25.47,\n",
              " 84.8,\n",
              " 40.86748402711337,\n",
              " 41.451305227500704,\n",
              " 42.043466730750715,\n",
              " 42.64408768404715,\n",
              " 43.2532889366764,\n",
              " 43.8711930643432,\n",
              " 44.49792439383382,\n",
              " 45.13360902803145,\n",
              " 74.49,\n",
              " 13.53,\n",
              " 7.0,\n",
              " 45.778374871289046,\n",
              " 66.89,\n",
              " 46.4323516551646,\n",
              " 47.095670964524096,\n",
              " 47.7684662640173,\n",
              " 780.45,\n",
              " 6.59,\n",
              " 31.45,\n",
              " 48.45087292493182,\n",
              " 49.14302825243085,\n",
              " 49.84507151317987,\n",
              " 22.4,\n",
              " 117.0,\n",
              " 42.16,\n",
              " 50.55714396336815,\n",
              " 8.0,\n",
              " 51.27938887713055,\n",
              " 100.26,\n",
              " 523.0,\n",
              " 11.15,\n",
              " 16.55,\n",
              " 55.38,\n",
              " 10.0,\n",
              " 52.01195157537528,\n",
              " 52.754979455023495,\n",
              " 53.50862201866669,\n",
              " 49.5,\n",
              " 54.27303090464765,\n",
              " 55.04835991757118,\n",
              " 55.83476505925078,\n",
              " 56.63240456009722,\n",
              " 193.35,\n",
              " 57.44143891095575,\n",
              " 49.5,\n",
              " 50.38,\n",
              " 58.26203089539797,\n",
              " 59.09434562247509,\n",
              " 118.46,\n",
              " 59.93855055993901,\n",
              " 37.29,\n",
              " 60.794815567938144,\n",
              " 61.6633129331944,\n",
              " 31.54,\n",
              " 62.5442174036686,\n",
              " 63.43770622372101,\n",
              " 64.34395916977417,\n",
              " 65.26315858648522]"
            ]
          },
          "metadata": {
            "tags": []
          },
          "execution_count": 84
        }
      ]
    },
    {
      "cell_type": "markdown",
      "metadata": {
        "id": "aVa9hcRXjPLB"
      },
      "source": [
        "# Download Predictions"
      ]
    },
    {
      "cell_type": "markdown",
      "metadata": {
        "id": "aZoHMfSsnP5F"
      },
      "source": [
        "Writing predictions"
      ]
    },
    {
      "cell_type": "code",
      "metadata": {
        "id": "0q_2Bi2VnRd8",
        "colab": {
          "base_uri": "https://localhost:8080/"
        },
        "outputId": "8e6da455-74d5-48c4-f326-eae66be9960c"
      },
      "source": [
        "with open('BillSubmission.csv', 'w', newline='') as file:\n",
        "    writer = csv.writer(file)\n",
        "    writer.writerow(['FileName','Total Amount'])\n",
        "    for i in range(len(list(final))):\n",
        "        writer.writerow([df[\"FileName\"][i],final[i]])\n",
        "file.close"
      ],
      "execution_count": 85,
      "outputs": [
        {
          "output_type": "execute_result",
          "data": {
            "text/plain": [
              "<function TextIOWrapper.close>"
            ]
          },
          "metadata": {
            "tags": []
          },
          "execution_count": 85
        }
      ]
    },
    {
      "cell_type": "code",
      "metadata": {
        "colab": {
          "base_uri": "https://localhost:8080/",
          "height": 17
        },
        "id": "aLiLKTQaVpuL",
        "outputId": "6fec3eea-1875-468f-eeab-0b03ce057f65"
      },
      "source": [
        "from google.colab import files\n",
        "files.download('BillSubmission.csv')"
      ],
      "execution_count": 86,
      "outputs": [
        {
          "output_type": "display_data",
          "data": {
            "application/javascript": [
              "\n",
              "    async function download(id, filename, size) {\n",
              "      if (!google.colab.kernel.accessAllowed) {\n",
              "        return;\n",
              "      }\n",
              "      const div = document.createElement('div');\n",
              "      const label = document.createElement('label');\n",
              "      label.textContent = `Downloading \"${filename}\": `;\n",
              "      div.appendChild(label);\n",
              "      const progress = document.createElement('progress');\n",
              "      progress.max = size;\n",
              "      div.appendChild(progress);\n",
              "      document.body.appendChild(div);\n",
              "\n",
              "      const buffers = [];\n",
              "      let downloaded = 0;\n",
              "\n",
              "      const channel = await google.colab.kernel.comms.open(id);\n",
              "      // Send a message to notify the kernel that we're ready.\n",
              "      channel.send({})\n",
              "\n",
              "      for await (const message of channel.messages) {\n",
              "        // Send a message to notify the kernel that we're ready.\n",
              "        channel.send({})\n",
              "        if (message.buffers) {\n",
              "          for (const buffer of message.buffers) {\n",
              "            buffers.push(buffer);\n",
              "            downloaded += buffer.byteLength;\n",
              "            progress.value = downloaded;\n",
              "          }\n",
              "        }\n",
              "      }\n",
              "      const blob = new Blob(buffers, {type: 'application/binary'});\n",
              "      const a = document.createElement('a');\n",
              "      a.href = window.URL.createObjectURL(blob);\n",
              "      a.download = filename;\n",
              "      div.appendChild(a);\n",
              "      a.click();\n",
              "      div.remove();\n",
              "    }\n",
              "  "
            ],
            "text/plain": [
              "<IPython.core.display.Javascript object>"
            ]
          },
          "metadata": {
            "tags": []
          }
        },
        {
          "output_type": "display_data",
          "data": {
            "application/javascript": [
              "download(\"download_c1596b84-ab07-4c04-93c8-3aae99beed6e\", \"BillSubmission.csv\", 1466)"
            ],
            "text/plain": [
              "<IPython.core.display.Javascript object>"
            ]
          },
          "metadata": {
            "tags": []
          }
        }
      ]
    }
  ]
}